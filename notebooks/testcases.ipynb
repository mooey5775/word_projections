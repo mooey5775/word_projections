{
 "cells": [
  {
   "cell_type": "code",
   "execution_count": 5,
   "metadata": {},
   "outputs": [],
   "source": [
    "import pickle\n",
    "import numpy as np"
   ]
  },
  {
   "cell_type": "code",
   "execution_count": 6,
   "metadata": {},
   "outputs": [],
   "source": [
    "class DebugModel():\n",
    "    def __init__(self, vector_size):\n",
    "        self.dims = vector_size\n",
    "        if self.dims == 0:\n",
    "            raise ValueError('Cannot generate vectors of dimension 0')\n",
    "\n",
    "    def get_word_vec(self, word):\n",
    "        np.random.seed([ord(i) for i in word])\n",
    "        return np.random.rand(self.dims)\n",
    "\n",
    "    def get_word_vec_list(self, word):\n",
    "        return self.get_word_vec(word).tolist()"
   ]
  },
  {
   "cell_type": "code",
   "execution_count": 8,
   "metadata": {},
   "outputs": [],
   "source": [
    "english_words = ['a', 'b', 'c', 'the', 'quick', 'brown', 'fox', 'jumps', 'over', 'the', 'lazy', 'dog']\n",
    "special_characters = ['test!', '!@#%&$%^)^(&*())', '{}|\"']\n",
    "unicode_words = ['Быстрая', 'коричневая', 'лиса', 'прыгает', 'через', 'ленивую', 'собаку', '敏捷的棕色狐狸跳过了懒狗', '😀😁😂', '🤣😃😄😅😆']"
   ]
  },
  {
   "cell_type": "code",
   "execution_count": 12,
   "metadata": {},
   "outputs": [],
   "source": [
    "model_sizes = [1, 2, 3, 10, 40, 100, 300]\n",
    "info_dict = {}\n",
    "\n",
    "all_words = english_words + special_characters + unicode_words\n",
    "\n",
    "for size in model_sizes:\n",
    "    model = DebugModel(size)\n",
    "    info_dict[size] = {}\n",
    "    for word in all_words:\n",
    "        info_dict[size][word] = model.get_word_vec(word)"
   ]
  },
  {
   "cell_type": "code",
   "execution_count": 14,
   "metadata": {},
   "outputs": [],
   "source": [
    "with open('debug_test_data.pickle', 'wb') as f:\n",
    "    pickle.dump(info_dict, f)"
   ]
  },
  {
   "cell_type": "code",
   "execution_count": null,
   "metadata": {},
   "outputs": [],
   "source": []
  }
 ],
 "metadata": {
  "kernelspec": {
   "display_name": "Python 3",
   "language": "python",
   "name": "python3"
  },
  "language_info": {
   "codemirror_mode": {
    "name": "ipython",
    "version": 3
   },
   "file_extension": ".py",
   "mimetype": "text/x-python",
   "name": "python",
   "nbconvert_exporter": "python",
   "pygments_lexer": "ipython3",
   "version": "3.7.3"
  }
 },
 "nbformat": 4,
 "nbformat_minor": 2
}
